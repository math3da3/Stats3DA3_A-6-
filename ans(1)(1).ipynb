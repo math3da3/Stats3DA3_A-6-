{
 "cells": [
  {
   "cell_type": "raw",
   "id": "363a2c81-d972-4429-9a77-57f8462292c7",
   "metadata": {},
   "source": [
    "---\n",
    "title: STATS 3DA3\n",
    "subtitle: Homework Assignment 6\n",
    "author: \"Longzhixin Huang 400343501 \n",
    "Binghe Li 400412789\n",
    "Qikai Gao 400236251\"\n",
    "date: Apr/28/2024\n",
    "format: pdf\n",
    "header-includes:\n",
    "   - \\usepackage{amsmath}\n",
    "   - \\usepackage{bbm}\n",
    "   - \\usepackage{array}\n",
    "   - \\usepackage{multirow}\n",
    "   - \\usepackage{graphicx}\n",
    "   - \\usepackage{float}\n",
    "   - \\usepackage{apacite}\n",
    "   - \\usepackage{natbib}\n",
    "execute: \n",
    "  echo: true\n",
    "fontsize: 11pt\n",
    "geometry: margin = 1in\n",
    "linestretch: 1.5\n",
    "---"
   ]
  },
  {
   "cell_type": "markdown",
   "id": "ccbf3a91",
   "metadata": {},
   "source": [
    "\\newpage"
   ]
  },
  {
   "cell_type": "code",
   "execution_count": null,
   "id": "8a6ad28c-3927-4798-b745-3b835c24b344",
   "metadata": {
    "ExecuteTime": {
     "end_time": "2024-04-18T16:28:19.008149Z",
     "start_time": "2024-04-18T16:28:18.816492Z"
    },
    "collapsed": true,
    "jupyter": {
     "outputs_hidden": true
    }
   },
   "outputs": [],
   "source": [
    "from ucimlrepo import fetch_ucirepo\n",
    "from sklearn.decomposition import PCA\n",
    "from sklearn.cluster import KMeans\n",
    "from sklearn.impute import SimpleImputer, KNNImputer\n",
    "from sklearn.model_selection import train_test_split\n",
    "from sklearn.ensemble import RandomForestClassifier\n",
    "from sklearn.svm import SVC\n",
    "from sklearn.metrics import accuracy_score, f1_score\n",
    "\n",
    "import pandas as pd\n",
    "import numpy as np\n",
    "import seaborn as sns\n",
    "import matplotlib.pyplot as plt\n",
    "import warnings\n",
    "\n",
    "warnings.filterwarnings('ignore')"
   ]
  },
  {
   "cell_type": "markdown",
   "id": "eebca4673a0f940a",
   "metadata": {
    "collapsed": false,
    "jupyter": {
     "outputs_hidden": false
    }
   },
   "source": [
    "## 1. Classification Problem Identification: Define and describe a classification problem based on the dataset"
   ]
  },
  {
   "cell_type": "code",
   "execution_count": 2,
   "id": "5cefd7f855928aeb",
   "metadata": {
    "ExecuteTime": {
     "end_time": "2024-04-18T16:28:21.522198Z",
     "start_time": "2024-04-18T16:28:19.008861Z"
    },
    "collapsed": false,
    "jupyter": {
     "outputs_hidden": false
    }
   },
   "outputs": [],
   "source": [
    "chronic_kidney_disease = fetch_ucirepo(id=336)\n",
    "\n",
    "X = chronic_kidney_disease.data.features\n",
    "y = chronic_kidney_disease.data.targets"
   ]
  },
  {
   "cell_type": "code",
   "execution_count": 3,
   "id": "7f527228da9f87d2",
   "metadata": {
    "ExecuteTime": {
     "end_time": "2024-04-18T16:28:21.538723Z",
     "start_time": "2024-04-18T16:28:21.524792Z"
    },
    "collapsed": false,
    "jupyter": {
     "outputs_hidden": false
    }
   },
   "outputs": [
    {
     "data": {
      "text/plain": [
       "(      age    bp     sg   al   su     rbc        pc         pcc          ba  \\\n",
       " 0    48.0  80.0  1.020  1.0  0.0     NaN    normal  notpresent  notpresent   \n",
       " 1     7.0  50.0  1.020  4.0  0.0     NaN    normal  notpresent  notpresent   \n",
       " 2    62.0  80.0  1.010  2.0  3.0  normal    normal  notpresent  notpresent   \n",
       " 3    48.0  70.0  1.005  4.0  0.0  normal  abnormal     present  notpresent   \n",
       " 4    51.0  80.0  1.010  2.0  0.0  normal    normal  notpresent  notpresent   \n",
       " ..    ...   ...    ...  ...  ...     ...       ...         ...         ...   \n",
       " 395  55.0  80.0  1.020  0.0  0.0  normal    normal  notpresent  notpresent   \n",
       " 396  42.0  70.0  1.025  0.0  0.0  normal    normal  notpresent  notpresent   \n",
       " 397  12.0  80.0  1.020  0.0  0.0  normal    normal  notpresent  notpresent   \n",
       " 398  17.0  60.0  1.025  0.0  0.0  normal    normal  notpresent  notpresent   \n",
       " 399  58.0  80.0  1.025  0.0  0.0  normal    normal  notpresent  notpresent   \n",
       " \n",
       "        bgr  ...  hemo   pcv    wbcc  rbcc  htn   dm  cad  appet   pe  ane  \n",
       " 0    121.0  ...  15.4  44.0  7800.0   5.2  yes  yes   no   good   no   no  \n",
       " 1      NaN  ...  11.3  38.0  6000.0   NaN   no   no   no   good   no   no  \n",
       " 2    423.0  ...   9.6  31.0  7500.0   NaN   no  yes   no   poor   no  yes  \n",
       " 3    117.0  ...  11.2  32.0  6700.0   3.9  yes   no   no   poor  yes  yes  \n",
       " 4    106.0  ...  11.6  35.0  7300.0   4.6   no   no   no   good   no   no  \n",
       " ..     ...  ...   ...   ...     ...   ...  ...  ...  ...    ...  ...  ...  \n",
       " 395  140.0  ...  15.7  47.0  6700.0   4.9   no   no   no   good   no   no  \n",
       " 396   75.0  ...  16.5  54.0  7800.0   6.2   no   no   no   good   no   no  \n",
       " 397  100.0  ...  15.8  49.0  6600.0   5.4   no   no   no   good   no   no  \n",
       " 398  114.0  ...  14.2  51.0  7200.0   5.9   no   no   no   good   no   no  \n",
       " 399  131.0  ...  15.8  53.0  6800.0   6.1   no   no   no   good   no   no  \n",
       " \n",
       " [400 rows x 24 columns],\n",
       "       class\n",
       " 0       ckd\n",
       " 1       ckd\n",
       " 2       ckd\n",
       " 3       ckd\n",
       " 4       ckd\n",
       " ..      ...\n",
       " 395  notckd\n",
       " 396  notckd\n",
       " 397  notckd\n",
       " 398  notckd\n",
       " 399  notckd\n",
       " \n",
       " [400 rows x 1 columns])"
      ]
     },
     "execution_count": 3,
     "metadata": {},
     "output_type": "execute_result"
    }
   ],
   "source": [
    "X, y"
   ]
  },
  {
   "cell_type": "markdown",
   "id": "bae6f7e4",
   "metadata": {},
   "source": [
    "For the question1 , based on medical data, we will predict whether an individual will develop chronic kidney disease (CKD). This prediction is a binary classification problem, and the target variable \"category\" includes two categories: \"ckd\" means suffering from kidney disease, and \"notckd\" means not suffering from kidney disease.\n"
   ]
  },
  {
   "cell_type": "markdown",
   "id": "e0e0a80a80496f98",
   "metadata": {
    "collapsed": false,
    "jupyter": {
     "outputs_hidden": false
    }
   },
   "source": [
    "## 2. Variable Transformation: Implement any transformations chosen or justify the absence of such modifications."
   ]
  },
  {
   "cell_type": "code",
   "execution_count": 4,
   "id": "1f5b7040fe084b26",
   "metadata": {
    "ExecuteTime": {
     "end_time": "2024-04-18T16:28:21.551455Z",
     "start_time": "2024-04-18T16:28:21.539758Z"
    },
    "collapsed": false,
    "jupyter": {
     "outputs_hidden": false
    }
   },
   "outputs": [],
   "source": [
    "binary_mappings = {\n",
    "    'normal': 0, 'abnormal': 1,\n",
    "    'present': 1, 'notpresent': 0,\n",
    "    'yes': 1, 'no': 0,\n",
    "    'good': 0, 'poor': 1\n",
    "}\n",
    "\n",
    "binary_columns = ['rbc', 'pc', 'pcc', 'ba', 'htn', 'dm', 'cad', 'appet', 'pe', 'ane']\n",
    "for column in binary_columns:\n",
    "    if column in X.columns:\n",
    "        specific_mapping = {key: binary_mappings[key] for key in binary_mappings if key in X[column].unique()}\n",
    "        X[column] = X[column].map(specific_mapping)\n",
    "class_mapping = {'ckd': 1, 'notckd': 0}\n",
    "y['class'] = y['class'].str.strip()\n",
    "\n",
    "y['class'] = y['class'].map(class_mapping)"
   ]
  },
  {
   "cell_type": "code",
   "execution_count": 5,
   "id": "a6f9f2bc64868703",
   "metadata": {
    "ExecuteTime": {
     "end_time": "2024-04-18T16:28:21.561934Z",
     "start_time": "2024-04-18T16:28:21.552415Z"
    },
    "collapsed": false,
    "jupyter": {
     "outputs_hidden": false
    }
   },
   "outputs": [
    {
     "data": {
      "text/plain": [
       "(      age    bp     sg   al   su  rbc   pc  pcc   ba    bgr  ...  hemo   pcv  \\\n",
       " 0    48.0  80.0  1.020  1.0  0.0  NaN  0.0  0.0  0.0  121.0  ...  15.4  44.0   \n",
       " 1     7.0  50.0  1.020  4.0  0.0  NaN  0.0  0.0  0.0    NaN  ...  11.3  38.0   \n",
       " 2    62.0  80.0  1.010  2.0  3.0  0.0  0.0  0.0  0.0  423.0  ...   9.6  31.0   \n",
       " 3    48.0  70.0  1.005  4.0  0.0  0.0  1.0  1.0  0.0  117.0  ...  11.2  32.0   \n",
       " 4    51.0  80.0  1.010  2.0  0.0  0.0  0.0  0.0  0.0  106.0  ...  11.6  35.0   \n",
       " ..    ...   ...    ...  ...  ...  ...  ...  ...  ...    ...  ...   ...   ...   \n",
       " 395  55.0  80.0  1.020  0.0  0.0  0.0  0.0  0.0  0.0  140.0  ...  15.7  47.0   \n",
       " 396  42.0  70.0  1.025  0.0  0.0  0.0  0.0  0.0  0.0   75.0  ...  16.5  54.0   \n",
       " 397  12.0  80.0  1.020  0.0  0.0  0.0  0.0  0.0  0.0  100.0  ...  15.8  49.0   \n",
       " 398  17.0  60.0  1.025  0.0  0.0  0.0  0.0  0.0  0.0  114.0  ...  14.2  51.0   \n",
       " 399  58.0  80.0  1.025  0.0  0.0  0.0  0.0  0.0  0.0  131.0  ...  15.8  53.0   \n",
       " \n",
       "        wbcc  rbcc  htn   dm  cad  appet   pe  ane  \n",
       " 0    7800.0   5.2  1.0  1.0  0.0    0.0  0.0  0.0  \n",
       " 1    6000.0   NaN  0.0  0.0  0.0    0.0  0.0  0.0  \n",
       " 2    7500.0   NaN  0.0  1.0  0.0    1.0  0.0  1.0  \n",
       " 3    6700.0   3.9  1.0  0.0  0.0    1.0  1.0  1.0  \n",
       " 4    7300.0   4.6  0.0  0.0  0.0    0.0  0.0  0.0  \n",
       " ..      ...   ...  ...  ...  ...    ...  ...  ...  \n",
       " 395  6700.0   4.9  0.0  0.0  0.0    0.0  0.0  0.0  \n",
       " 396  7800.0   6.2  0.0  0.0  0.0    0.0  0.0  0.0  \n",
       " 397  6600.0   5.4  0.0  0.0  0.0    0.0  0.0  0.0  \n",
       " 398  7200.0   5.9  0.0  0.0  0.0    0.0  0.0  0.0  \n",
       " 399  6800.0   6.1  0.0  0.0  0.0    0.0  0.0  0.0  \n",
       " \n",
       " [400 rows x 24 columns],\n",
       "      class\n",
       " 0        1\n",
       " 1        1\n",
       " 2        1\n",
       " 3        1\n",
       " 4        1\n",
       " ..     ...\n",
       " 395      0\n",
       " 396      0\n",
       " 397      0\n",
       " 398      0\n",
       " 399      0\n",
       " \n",
       " [400 rows x 1 columns])"
      ]
     },
     "execution_count": 5,
     "metadata": {},
     "output_type": "execute_result"
    }
   ],
   "source": [
    "X, y"
   ]
  },
  {
   "cell_type": "markdown",
   "id": "c4558c7c",
   "metadata": {},
   "source": [
    "For the question2, we observed that our dataset contains several binary classification features, including \"rbc\", \"pc\", \"pcc\", \"ba\", \"htn\", \"dm\", \"cad\", \"appet\", \"pe\" and \"ane\". These features are initially encoded with string labels such as \"normal\", \"abnormal\", \"present\", \"absent\", \"yes\", \"no\", \"good\" and \"poor\". To convert these features into a format that our machine learning model can more easily interpret, we map these string labels to binary numeric values. For example, we map \"normal\" and \"good\" to 0, and \"abnormal\" and \"poor\" to 1.\n",
    "The mapping process is implemented using the “map()” function in pandas DataFrame. We first define a dictionary to specify mapping rules and then apply these rules to each binary column in the feature set.\n",
    "In addition to the binary features, our target variable \"class\" also needs to be transformed. The \"class\" variable initially contains the string labels \"ckd\" and \"notckd\" indicating whether the patient has chronic kidney disease. We map \"ckd\" to 1 and \"notckd\" to 0, converting the target variable into a binary number format suitable for binary classification tasks.\n"
   ]
  },
  {
   "cell_type": "markdown",
   "id": "18bd2dea740f87f0",
   "metadata": {
    "collapsed": false,
    "jupyter": {
     "outputs_hidden": false
    }
   },
   "source": [
    "## 3. Dataset Overview: Provide a detailed description of the dataset, covering variables, summaries, observation counts, data types, and distributions (at least three statements)."
   ]
  },
  {
   "cell_type": "code",
   "execution_count": 6,
   "id": "4172796e63dad00b",
   "metadata": {
    "ExecuteTime": {
     "end_time": "2024-04-18T16:28:21.584713Z",
     "start_time": "2024-04-18T16:28:21.562860Z"
    },
    "collapsed": false,
    "jupyter": {
     "outputs_hidden": false
    }
   },
   "outputs": [
    {
     "name": "stdout",
     "output_type": "stream",
     "text": [
      "Data types:\n",
      " age      float64\n",
      "bp       float64\n",
      "sg       float64\n",
      "al       float64\n",
      "su       float64\n",
      "rbc      float64\n",
      "pc       float64\n",
      "pcc      float64\n",
      "ba       float64\n",
      "bgr      float64\n",
      "bu       float64\n",
      "sc       float64\n",
      "sod      float64\n",
      "pot      float64\n",
      "hemo     float64\n",
      "pcv      float64\n",
      "wbcc     float64\n",
      "rbcc     float64\n",
      "htn      float64\n",
      "dm       float64\n",
      "cad      float64\n",
      "appet    float64\n",
      "pe       float64\n",
      "ane      float64\n",
      "dtype: object\n",
      "\n",
      "Statistical summary:\n",
      "               age          bp          sg          al          su         rbc  \\\n",
      "count  391.000000  388.000000  353.000000  354.000000  351.000000  248.000000   \n",
      "mean    51.483376   76.469072    1.017408    1.016949    0.450142    0.189516   \n",
      "std     17.169714   13.683637    0.005717    1.352679    1.099191    0.392711   \n",
      "min      2.000000   50.000000    1.005000    0.000000    0.000000    0.000000   \n",
      "25%     42.000000   70.000000    1.010000    0.000000    0.000000    0.000000   \n",
      "50%     55.000000   80.000000    1.020000    0.000000    0.000000    0.000000   \n",
      "75%     64.500000   80.000000    1.020000    2.000000    0.000000    0.000000   \n",
      "max     90.000000  180.000000    1.025000    5.000000    5.000000    1.000000   \n",
      "\n",
      "               pc         pcc          ba         bgr  ...        hemo  \\\n",
      "count  335.000000  396.000000  396.000000  356.000000  ...  348.000000   \n",
      "mean     0.226866    0.106061    0.055556  148.036517  ...   12.526437   \n",
      "std      0.419431    0.308305    0.229351   79.281714  ...    2.912587   \n",
      "min      0.000000    0.000000    0.000000   22.000000  ...    3.100000   \n",
      "25%      0.000000    0.000000    0.000000   99.000000  ...   10.300000   \n",
      "50%      0.000000    0.000000    0.000000  121.000000  ...   12.650000   \n",
      "75%      0.000000    0.000000    0.000000  163.000000  ...   15.000000   \n",
      "max      1.000000    1.000000    1.000000  490.000000  ...   17.800000   \n",
      "\n",
      "              pcv          wbcc        rbcc         htn          dm  \\\n",
      "count  329.000000    294.000000  269.000000  398.000000  397.000000   \n",
      "mean    38.884498   8406.122449    4.707435    0.369347    0.345088   \n",
      "std      8.990105   2944.474190    1.025323    0.483235    0.475997   \n",
      "min      9.000000   2200.000000    2.100000    0.000000    0.000000   \n",
      "25%     32.000000   6500.000000    3.900000    0.000000    0.000000   \n",
      "50%     40.000000   8000.000000    4.800000    0.000000    0.000000   \n",
      "75%     45.000000   9800.000000    5.400000    1.000000    1.000000   \n",
      "max     54.000000  26400.000000    8.000000    1.000000    1.000000   \n",
      "\n",
      "              cad       appet          pe         ane  \n",
      "count  398.000000  399.000000  399.000000  399.000000  \n",
      "mean     0.085427    0.205514    0.190476    0.150376  \n",
      "std      0.279868    0.404584    0.393170    0.357888  \n",
      "min      0.000000    0.000000    0.000000    0.000000  \n",
      "25%      0.000000    0.000000    0.000000    0.000000  \n",
      "50%      0.000000    0.000000    0.000000    0.000000  \n",
      "75%      0.000000    0.000000    0.000000    0.000000  \n",
      "max      1.000000    1.000000    1.000000    1.000000  \n",
      "\n",
      "[8 rows x 24 columns]\n",
      "\n",
      "Number of observations:\n",
      " age      391\n",
      "bp       388\n",
      "sg       353\n",
      "al       354\n",
      "su       351\n",
      "rbc      248\n",
      "pc       335\n",
      "pcc      396\n",
      "ba       396\n",
      "bgr      356\n",
      "bu       381\n",
      "sc       383\n",
      "sod      313\n",
      "pot      312\n",
      "hemo     348\n",
      "pcv      329\n",
      "wbcc     294\n",
      "rbcc     269\n",
      "htn      398\n",
      "dm       397\n",
      "cad      398\n",
      "appet    399\n",
      "pe       399\n",
      "ane      399\n",
      "dtype: int64\n",
      "\n",
      "Distribution of the target variable:\n",
      " class\n",
      "1        250\n",
      "0        150\n",
      "dtype: int64\n"
     ]
    }
   ],
   "source": [
    "print(\"Data types:\\n\", X.dtypes)\n",
    "\n",
    "print(\"\\nStatistical summary:\\n\", X.describe())\n",
    "\n",
    "print(\"\\nNumber of observations:\\n\", X.count())\n",
    "\n",
    "print(\"\\nDistribution of the target variable:\\n\", y.value_counts())"
   ]
  },
  {
   "cell_type": "markdown",
   "id": "30da60a8",
   "metadata": {},
   "source": [
    "For the question3, After face-changing transformation of the data, our data set covers 24 features, all of which are continuous or binary numerical types, accompanied by a binary target variable. These characteristics include demographic, biological and medical indicators such as patient age, blood pressure, red blood cell count and hypertension status.\n",
    "We observe that the number of observations in the dataset varies between 248 and 399. This revealed the presence of missing data. Therefore, in the data preprocessing stage, we need to properly handle these missing data.\n",
    "\n",
    "By reviewing the statistical overview of the data set, we find that the feature values have a wide distribution range. For example, \"age\" ranges from 2 to 90 years old, while \"bp(blood pressure)\" fluctuates between 50 and 180. This variability highlights the importance of feature scaling, which needs to be considered during data preprocessing to prevent individual features from becoming overwhelmingly dominant in model training.\n",
    "The target variable \"class\" is a binary variable that indicates whether the patient has chronic kidney disease (CKD). Based on the distribution of the target variable, we observed 250 CKD cases and 150 non-CKD cases. This imbalance in class distribution can have an impact on the performance of machine learning models, potentially causing the model to be biased towards predicting the majority class. To alleviate this imbalance during training, we may need to employ techniques such as class weighting or oversampling.\n"
   ]
  },
  {
   "cell_type": "markdown",
   "id": "864873d452da7049",
   "metadata": {
    "collapsed": false,
    "jupyter": {
     "outputs_hidden": false
    }
   },
   "source": [
    "## 4. Association Between Variables: Analyze variable relationships and their implications for feature selection or extraction (at least three statements)."
   ]
  },
  {
   "cell_type": "code",
   "execution_count": 7,
   "id": "91bb6866fc440a88",
   "metadata": {
    "ExecuteTime": {
     "end_time": "2024-04-18T16:28:21.930910Z",
     "start_time": "2024-04-18T16:28:21.585740Z"
    },
    "collapsed": false,
    "jupyter": {
     "outputs_hidden": false
    }
   },
   "outputs": [
    {
     "name": "stdout",
     "output_type": "stream",
     "text": [
      "            age        bp        sg        al        su       rbc        pc  \\\n",
      "age    1.000000  0.159480 -0.191096  0.122091  0.220866  0.079987  0.150867   \n",
      "bp     0.159480  1.000000 -0.218836  0.160689  0.222576  0.294129  0.189310   \n",
      "sg    -0.191096 -0.218836  1.000000 -0.469760 -0.296234 -0.395774 -0.374407   \n",
      "al     0.122091  0.160689 -0.469760  1.000000  0.269305  0.437873  0.558535   \n",
      "su     0.220866  0.222576 -0.296234  0.269305  1.000000  0.164609  0.202815   \n",
      "rbc    0.079987  0.294129 -0.395774  0.437873  0.164609  1.000000  0.426395   \n",
      "pc     0.150867  0.189310 -0.374407  0.558535  0.202815  0.426395  1.000000   \n",
      "pcc    0.157693  0.057891 -0.291618  0.401284  0.151222  0.110282  0.514578   \n",
      "ba     0.042160  0.111204 -0.220656  0.368373  0.107047  0.180657  0.329655   \n",
      "bgr    0.244992  0.160193 -0.374710  0.379464  0.717827  0.293097  0.329612   \n",
      "bu     0.196985  0.188517 -0.314295  0.453528  0.168583  0.288021  0.435700   \n",
      "sc     0.132531  0.146222 -0.361473  0.399198  0.223244  0.301159  0.356734   \n",
      "sod   -0.100046 -0.116422  0.412190 -0.459896 -0.131776 -0.346578 -0.358833   \n",
      "pot    0.058377  0.075151 -0.072787  0.129038  0.219450 -0.035086  0.185211   \n",
      "hemo  -0.192928 -0.306540  0.602582 -0.634632 -0.224775 -0.471575 -0.541903   \n",
      "pcv   -0.242119 -0.326319  0.603560 -0.611891 -0.239189 -0.447670 -0.541718   \n",
      "wbcc   0.118339  0.029753 -0.236215  0.231989  0.184893 -0.004201  0.134303   \n",
      "rbcc  -0.268896 -0.261936  0.579476 -0.566437 -0.237448 -0.381538 -0.548112   \n",
      "htn    0.400254  0.271301 -0.400085  0.525756  0.321933  0.306579  0.383096   \n",
      "dm     0.368012  0.228946 -0.431046  0.413609  0.523372  0.339051  0.301557   \n",
      "cad    0.233560  0.085602 -0.174722  0.268324  0.279979  0.193730  0.215118   \n",
      "appet  0.161168  0.177914 -0.268498  0.357455  0.087417  0.282708  0.316625   \n",
      "pe     0.097621  0.054045 -0.298618  0.477274  0.143085  0.302234  0.415723   \n",
      "ane    0.053346  0.197345 -0.242699  0.321187  0.075233  0.189951  0.329643   \n",
      "class  0.227268  0.294077 -0.732163  0.627090  0.344070  0.555097  0.461812   \n",
      "\n",
      "            pcc        ba       bgr  ...       pcv      wbcc      rbcc  \\\n",
      "age    0.157693  0.042160  0.244992  ... -0.242119  0.118339 -0.268896   \n",
      "bp     0.057891  0.111204  0.160193  ... -0.326319  0.029753 -0.261936   \n",
      "sg    -0.291618 -0.220656 -0.374710  ...  0.603560 -0.236215  0.579476   \n",
      "al     0.401284  0.368373  0.379464  ... -0.611891  0.231989 -0.566437   \n",
      "su     0.151222  0.107047  0.717827  ... -0.239189  0.184893 -0.237448   \n",
      "rbc    0.110282  0.180657  0.293097  ... -0.447670 -0.004201 -0.381538   \n",
      "pc     0.514578  0.329655  0.329612  ... -0.541718  0.134303 -0.548112   \n",
      "pcc    1.000000  0.274491  0.208856  ... -0.312942  0.189944 -0.350248   \n",
      "ba     0.274491  1.000000  0.093582  ... -0.208454  0.117600 -0.231433   \n",
      "bgr    0.208856  0.093582  1.000000  ... -0.301385  0.150015 -0.281541   \n",
      "bu     0.183243  0.157487  0.143322  ... -0.607621  0.050462 -0.579087   \n",
      "sc     0.048553  0.049837  0.114875  ... -0.404193 -0.006390 -0.400852   \n",
      "sod   -0.180640 -0.089411 -0.267848  ...  0.376914  0.007277  0.344873   \n",
      "pot   -0.008385 -0.003232  0.066966  ... -0.163182 -0.105576 -0.158309   \n",
      "hemo  -0.285726 -0.219461 -0.306189  ...  0.895382 -0.169413  0.798880   \n",
      "pcv   -0.312942 -0.208454 -0.301385  ...  1.000000 -0.197022  0.791625   \n",
      "wbcc   0.189944  0.117600  0.150015  ... -0.197022  1.000000 -0.158163   \n",
      "rbcc  -0.350248 -0.231433 -0.281541  ...  0.791625 -0.158163  1.000000   \n",
      "htn    0.192673  0.086668  0.390203  ... -0.632889  0.146419 -0.647767   \n",
      "dm     0.161753  0.077368  0.525481  ... -0.506680  0.184847 -0.526012   \n",
      "cad    0.186738  0.161461  0.228829  ... -0.313885  0.010618 -0.358842   \n",
      "appet  0.187932  0.147872  0.185179  ... -0.456983  0.181611 -0.511330   \n",
      "pe     0.102485  0.133500  0.108686  ... -0.454560  0.174285 -0.454764   \n",
      "ane    0.174364  0.051001  0.140121  ... -0.564260  0.043423 -0.508223   \n",
      "class  0.263226  0.185345  0.419672  ... -0.741427  0.231919 -0.699089   \n",
      "\n",
      "            htn        dm       cad     appet        pe       ane     class  \n",
      "age    0.400254  0.368012  0.233560  0.161168  0.097621  0.053346  0.227268  \n",
      "bp     0.271301  0.228946  0.085602  0.177914  0.054045  0.197345  0.294077  \n",
      "sg    -0.400085 -0.431046 -0.174722 -0.268498 -0.298618 -0.242699 -0.732163  \n",
      "al     0.525756  0.413609  0.268324  0.357455  0.477274  0.321187  0.627090  \n",
      "su     0.321933  0.523372  0.279979  0.087417  0.143085  0.075233  0.344070  \n",
      "rbc    0.306579  0.339051  0.193730  0.282708  0.302234  0.189951  0.555097  \n",
      "pc     0.383096  0.301557  0.215118  0.316625  0.415723  0.329643  0.461812  \n",
      "pcc    0.192673  0.161753  0.186738  0.187932  0.102485  0.174364  0.263226  \n",
      "ba     0.086668  0.077368  0.161461  0.147872  0.133500  0.051001  0.185345  \n",
      "bgr    0.390203  0.525481  0.228829  0.185179  0.108686  0.140121  0.419672  \n",
      "bu     0.394269  0.318341  0.226613  0.278447  0.345425  0.443404  0.380605  \n",
      "sc     0.277936  0.207941  0.192216  0.164221  0.179809  0.239677  0.299969  \n",
      "sod   -0.347698 -0.306910 -0.235109 -0.186913 -0.169726 -0.227310 -0.375674  \n",
      "pot    0.064783  0.070934  0.006444 -0.020123  0.068982  0.115709  0.084541  \n",
      "hemo  -0.618867 -0.501538 -0.285247 -0.431364 -0.420258 -0.582998 -0.768919  \n",
      "pcv   -0.632889 -0.506680 -0.313885 -0.456983 -0.454560 -0.564260 -0.741427  \n",
      "wbcc   0.146419  0.184847  0.010618  0.181611  0.174285  0.043423  0.231919  \n",
      "rbcc  -0.647767 -0.526012 -0.358842 -0.511330 -0.454764 -0.508223 -0.699089  \n",
      "htn    1.000000  0.606485  0.324862  0.343233  0.369375  0.346374  0.588820  \n",
      "dm     0.606485  1.000000  0.270137  0.322701  0.306101  0.181262  0.559635  \n",
      "cad    0.324862  0.270137  1.000000  0.155140  0.171391  0.046780  0.235153  \n",
      "appet  0.343233  0.322701  0.155140  1.000000  0.416695  0.254546  0.392645  \n",
      "pe     0.369375  0.306101  0.171391  0.416695  1.000000  0.206622  0.374480  \n",
      "ane    0.346374  0.181262  0.046780  0.254546  0.206622  1.000000  0.324787  \n",
      "class  0.588820  0.559635  0.235153  0.392645  0.374480  0.324787  1.000000  \n",
      "\n",
      "[25 rows x 25 columns]\n"
     ]
    },
    {
     "data": {
      "image/png": "[encoded data removed]",
      "text/plain": [
       "<Figure size 1100x900 with 2 Axes>"
      ]
     },
     "metadata": {},
     "output_type": "display_data"
    }
   ],
   "source": [
    "df = pd.concat([X, y.rename(columns={y.columns[0]: 'class'})], axis=1)\n",
    "\n",
    "corr = df.corr()\n",
    "print(corr)\n",
    "mask = np.triu(np.ones_like(corr, dtype=bool))\n",
    "\n",
    "f, ax = plt.subplots(figsize=(11, 9))\n",
    "\n",
    "sns.heatmap(corr,cmap='Blues',mask=mask)\n",
    "plt.show()"
   ]
  },
  {
   "cell_type": "markdown",
   "id": "60bc74d9",
   "metadata": {},
   "source": [
    "For the question 4, In our analysis, we explored the relationships between variables by computing a correlation matrix of the dataset and visualizing it using a heat map. This step has important guiding significance for our feature selection or extraction process.\n",
    "From the results of the correlation matrix, we clearly observe that there is a significant negative correlation between \"sg\" (proportion) and the target variable \"class\", with a correlation coefficient of -0.732163. This finding suggests that as the specific gravity of a patient's urine increases, their probability of developing chronic kidney disease actually decreases. Therefore, \"sg\" is undoubtedly a key feature in our classification task.\n",
    "At the same time, we also noticed that there is a strong positive correlation between \"al\" (albumin) and the target variable, with a correlation coefficient of 0.627090, which means that patients with high albumin levels are more likely to suffer from chronic kidney disease. On the contrary, \"hemo\" (hemoglobin) showed a strong negative correlation with the target variable, with a correlation coefficient of -0.768919, indicating that patients with higher albumin levels are associated with a lower incidence of chronic kidney disease. The close relationship between these two features and the target variable makes them important in predictive modeling.\n",
    "It is worth mentioning that the correlation coefficient between \"su\" (sugar) and \"bgr\" (random blood sugar) is as high as 0.717827, showing a strong positive correlation, which is an example of the high correlation between features in the data set. This high correlation may cause multicollinearity problems, which may increase the variance of the model's estimated coefficients and make the model more sensitive to small changes in the data. To deal with this problem, we may consider eliminating one of the features during feature extraction, or merging the two into a new feature.\n"
   ]
  },
  {
   "cell_type": "markdown",
   "id": "47f9dfa85608998c",
   "metadata": {
    "collapsed": false,
    "jupyter": {
     "outputs_hidden": false
    }
   },
   "source": [
    "## 5. Missing Value Analysis and Handling: Implement your strategy for identifying and addressing missing values in the dataset, or provide reasons for not addressing them."
   ]
  },
  {
   "cell_type": "code",
   "execution_count": 8,
   "id": "89c19ecf47d3302d",
   "metadata": {
    "ExecuteTime": {
     "end_time": "2024-04-18T16:28:21.935211Z",
     "start_time": "2024-04-18T16:28:21.931828Z"
    },
    "collapsed": false,
    "jupyter": {
     "outputs_hidden": false
    }
   },
   "outputs": [
    {
     "name": "stdout",
     "output_type": "stream",
     "text": [
      "age       2.25\n",
      "bp        3.00\n",
      "sg       11.75\n",
      "al       11.50\n",
      "su       12.25\n",
      "rbc      38.00\n",
      "pc       16.25\n",
      "pcc       1.00\n",
      "ba        1.00\n",
      "bgr      11.00\n",
      "bu        4.75\n",
      "sc        4.25\n",
      "sod      21.75\n",
      "pot      22.00\n",
      "hemo     13.00\n",
      "pcv      17.75\n",
      "wbcc     26.50\n",
      "rbcc     32.75\n",
      "htn       0.50\n",
      "dm        0.75\n",
      "cad       0.50\n",
      "appet     0.25\n",
      "pe        0.25\n",
      "ane       0.25\n",
      "dtype: float64\n"
     ]
    }
   ],
   "source": [
    "missing_percentages = (X.isnull().sum() / len(X)) * 100\n",
    "print(missing_percentages)"
   ]
  },
  {
   "cell_type": "code",
   "execution_count": 9,
   "id": "2caf6be84a27ce62",
   "metadata": {
    "ExecuteTime": {
     "end_time": "2024-04-18T16:28:21.954848Z",
     "start_time": "2024-04-18T16:28:21.937666Z"
    },
    "collapsed": false,
    "jupyter": {
     "outputs_hidden": false
    }
   },
   "outputs": [],
   "source": [
    "low_missing_cols = ['age', 'bp', 'pcc', 'ba', 'htn', 'dm', 'cad', 'appet', 'pe', 'ane']\n",
    "moderate_missing_cols = ['sg', 'al', 'su', 'bgr', 'bu', 'sc', 'hemo', 'pcv']\n",
    "high_missing_cols = ['rbc', 'pc', 'sod', 'pot', 'wbcc', 'rbcc']\n",
    "\n",
    "simple_imputer = SimpleImputer(strategy='median')  # or use 'most_frequent' for categorical data\n",
    "X[low_missing_cols] = simple_imputer.fit_transform(X[low_missing_cols])\n",
    "\n",
    "knn_imputer = KNNImputer(n_neighbors=5)  # Can be adjusted based on data\n",
    "X[moderate_missing_cols + high_missing_cols] = knn_imputer.fit_transform(X[moderate_missing_cols + high_missing_cols])"
   ]
  },
  {
   "cell_type": "code",
   "execution_count": 10,
   "id": "df2b732b2a355490",
   "metadata": {
    "ExecuteTime": {
     "end_time": "2024-04-18T16:28:22.006408Z",
     "start_time": "2024-04-18T16:28:21.970175Z"
    },
    "collapsed": false,
    "jupyter": {
     "outputs_hidden": false
    }
   },
   "outputs": [
    {
     "data": {
      "text/html": [
       "<div>\n",
       "<style scoped>\n",
       "    .dataframe tbody tr th:only-of-type {\n",
       "        vertical-align: middle;\n",
       "    }\n",
       "\n",
       "    .dataframe tbody tr th {\n",
       "        vertical-align: top;\n",
       "    }\n",
       "\n",
       "    .dataframe thead th {\n",
       "        text-align: right;\n",
       "    }\n",
       "</style>\n",
       "<table border=\"1\" class=\"dataframe\">\n",
       "  <thead>\n",
       "    <tr style=\"text-align: right;\">\n",
       "      <th></th>\n",
       "      <th>age</th>\n",
       "      <th>bp</th>\n",
       "      <th>sg</th>\n",
       "      <th>al</th>\n",
       "      <th>su</th>\n",
       "      <th>rbc</th>\n",
       "      <th>pc</th>\n",
       "      <th>pcc</th>\n",
       "      <th>ba</th>\n",
       "      <th>bgr</th>\n",
       "      <th>...</th>\n",
       "      <th>hemo</th>\n",
       "      <th>pcv</th>\n",
       "      <th>wbcc</th>\n",
       "      <th>rbcc</th>\n",
       "      <th>htn</th>\n",
       "      <th>dm</th>\n",
       "      <th>cad</th>\n",
       "      <th>appet</th>\n",
       "      <th>pe</th>\n",
       "      <th>ane</th>\n",
       "    </tr>\n",
       "  </thead>\n",
       "  <tbody>\n",
       "    <tr>\n",
       "      <th>0</th>\n",
       "      <td>48.0</td>\n",
       "      <td>80.0</td>\n",
       "      <td>1.020</td>\n",
       "      <td>1.0</td>\n",
       "      <td>0.0</td>\n",
       "      <td>0.2</td>\n",
       "      <td>0.0</td>\n",
       "      <td>0.0</td>\n",
       "      <td>0.0</td>\n",
       "      <td>121.0</td>\n",
       "      <td>...</td>\n",
       "      <td>15.4</td>\n",
       "      <td>44.0</td>\n",
       "      <td>7800.0</td>\n",
       "      <td>5.20</td>\n",
       "      <td>1.0</td>\n",
       "      <td>1.0</td>\n",
       "      <td>0.0</td>\n",
       "      <td>0.0</td>\n",
       "      <td>0.0</td>\n",
       "      <td>0.0</td>\n",
       "    </tr>\n",
       "    <tr>\n",
       "      <th>1</th>\n",
       "      <td>7.0</td>\n",
       "      <td>50.0</td>\n",
       "      <td>1.020</td>\n",
       "      <td>4.0</td>\n",
       "      <td>0.0</td>\n",
       "      <td>0.2</td>\n",
       "      <td>0.0</td>\n",
       "      <td>0.0</td>\n",
       "      <td>0.0</td>\n",
       "      <td>179.8</td>\n",
       "      <td>...</td>\n",
       "      <td>11.3</td>\n",
       "      <td>38.0</td>\n",
       "      <td>6000.0</td>\n",
       "      <td>5.08</td>\n",
       "      <td>0.0</td>\n",
       "      <td>0.0</td>\n",
       "      <td>0.0</td>\n",
       "      <td>0.0</td>\n",
       "      <td>0.0</td>\n",
       "      <td>0.0</td>\n",
       "    </tr>\n",
       "    <tr>\n",
       "      <th>2</th>\n",
       "      <td>62.0</td>\n",
       "      <td>80.0</td>\n",
       "      <td>1.010</td>\n",
       "      <td>2.0</td>\n",
       "      <td>3.0</td>\n",
       "      <td>0.0</td>\n",
       "      <td>0.0</td>\n",
       "      <td>0.0</td>\n",
       "      <td>0.0</td>\n",
       "      <td>423.0</td>\n",
       "      <td>...</td>\n",
       "      <td>9.6</td>\n",
       "      <td>31.0</td>\n",
       "      <td>7500.0</td>\n",
       "      <td>3.80</td>\n",
       "      <td>0.0</td>\n",
       "      <td>1.0</td>\n",
       "      <td>0.0</td>\n",
       "      <td>1.0</td>\n",
       "      <td>0.0</td>\n",
       "      <td>1.0</td>\n",
       "    </tr>\n",
       "    <tr>\n",
       "      <th>3</th>\n",
       "      <td>48.0</td>\n",
       "      <td>70.0</td>\n",
       "      <td>1.005</td>\n",
       "      <td>4.0</td>\n",
       "      <td>0.0</td>\n",
       "      <td>0.0</td>\n",
       "      <td>1.0</td>\n",
       "      <td>1.0</td>\n",
       "      <td>0.0</td>\n",
       "      <td>117.0</td>\n",
       "      <td>...</td>\n",
       "      <td>11.2</td>\n",
       "      <td>32.0</td>\n",
       "      <td>6700.0</td>\n",
       "      <td>3.90</td>\n",
       "      <td>1.0</td>\n",
       "      <td>0.0</td>\n",
       "      <td>0.0</td>\n",
       "      <td>1.0</td>\n",
       "      <td>1.0</td>\n",
       "      <td>1.0</td>\n",
       "    </tr>\n",
       "    <tr>\n",
       "      <th>4</th>\n",
       "      <td>51.0</td>\n",
       "      <td>80.0</td>\n",
       "      <td>1.010</td>\n",
       "      <td>2.0</td>\n",
       "      <td>0.0</td>\n",
       "      <td>0.0</td>\n",
       "      <td>0.0</td>\n",
       "      <td>0.0</td>\n",
       "      <td>0.0</td>\n",
       "      <td>106.0</td>\n",
       "      <td>...</td>\n",
       "      <td>11.6</td>\n",
       "      <td>35.0</td>\n",
       "      <td>7300.0</td>\n",
       "      <td>4.60</td>\n",
       "      <td>0.0</td>\n",
       "      <td>0.0</td>\n",
       "      <td>0.0</td>\n",
       "      <td>0.0</td>\n",
       "      <td>0.0</td>\n",
       "      <td>0.0</td>\n",
       "    </tr>\n",
       "    <tr>\n",
       "      <th>...</th>\n",
       "      <td>...</td>\n",
       "      <td>...</td>\n",
       "      <td>...</td>\n",
       "      <td>...</td>\n",
       "      <td>...</td>\n",
       "      <td>...</td>\n",
       "      <td>...</td>\n",
       "      <td>...</td>\n",
       "      <td>...</td>\n",
       "      <td>...</td>\n",
       "      <td>...</td>\n",
       "      <td>...</td>\n",
       "      <td>...</td>\n",
       "      <td>...</td>\n",
       "      <td>...</td>\n",
       "      <td>...</td>\n",
       "      <td>...</td>\n",
       "      <td>...</td>\n",
       "      <td>...</td>\n",
       "      <td>...</td>\n",
       "      <td>...</td>\n",
       "    </tr>\n",
       "    <tr>\n",
       "      <th>395</th>\n",
       "      <td>55.0</td>\n",
       "      <td>80.0</td>\n",
       "      <td>1.020</td>\n",
       "      <td>0.0</td>\n",
       "      <td>0.0</td>\n",
       "      <td>0.0</td>\n",
       "      <td>0.0</td>\n",
       "      <td>0.0</td>\n",
       "      <td>0.0</td>\n",
       "      <td>140.0</td>\n",
       "      <td>...</td>\n",
       "      <td>15.7</td>\n",
       "      <td>47.0</td>\n",
       "      <td>6700.0</td>\n",
       "      <td>4.90</td>\n",
       "      <td>0.0</td>\n",
       "      <td>0.0</td>\n",
       "      <td>0.0</td>\n",
       "      <td>0.0</td>\n",
       "      <td>0.0</td>\n",
       "      <td>0.0</td>\n",
       "    </tr>\n",
       "    <tr>\n",
       "      <th>396</th>\n",
       "      <td>42.0</td>\n",
       "      <td>70.0</td>\n",
       "      <td>1.025</td>\n",
       "      <td>0.0</td>\n",
       "      <td>0.0</td>\n",
       "      <td>0.0</td>\n",
       "      <td>0.0</td>\n",
       "      <td>0.0</td>\n",
       "      <td>0.0</td>\n",
       "      <td>75.0</td>\n",
       "      <td>...</td>\n",
       "      <td>16.5</td>\n",
       "      <td>54.0</td>\n",
       "      <td>7800.0</td>\n",
       "      <td>6.20</td>\n",
       "      <td>0.0</td>\n",
       "      <td>0.0</td>\n",
       "      <td>0.0</td>\n",
       "      <td>0.0</td>\n",
       "      <td>0.0</td>\n",
       "      <td>0.0</td>\n",
       "    </tr>\n",
       "    <tr>\n",
       "      <th>397</th>\n",
       "      <td>12.0</td>\n",
       "      <td>80.0</td>\n",
       "      <td>1.020</td>\n",
       "      <td>0.0</td>\n",
       "      <td>0.0</td>\n",
       "      <td>0.0</td>\n",
       "      <td>0.0</td>\n",
       "      <td>0.0</td>\n",
       "      <td>0.0</td>\n",
       "      <td>100.0</td>\n",
       "      <td>...</td>\n",
       "      <td>15.8</td>\n",
       "      <td>49.0</td>\n",
       "      <td>6600.0</td>\n",
       "      <td>5.40</td>\n",
       "      <td>0.0</td>\n",
       "      <td>0.0</td>\n",
       "      <td>0.0</td>\n",
       "      <td>0.0</td>\n",
       "      <td>0.0</td>\n",
       "      <td>0.0</td>\n",
       "    </tr>\n",
       "    <tr>\n",
       "      <th>398</th>\n",
       "      <td>17.0</td>\n",
       "      <td>60.0</td>\n",
       "      <td>1.025</td>\n",
       "      <td>0.0</td>\n",
       "      <td>0.0</td>\n",
       "      <td>0.0</td>\n",
       "      <td>0.0</td>\n",
       "      <td>0.0</td>\n",
       "      <td>0.0</td>\n",
       "      <td>114.0</td>\n",
       "      <td>...</td>\n",
       "      <td>14.2</td>\n",
       "      <td>51.0</td>\n",
       "      <td>7200.0</td>\n",
       "      <td>5.90</td>\n",
       "      <td>0.0</td>\n",
       "      <td>0.0</td>\n",
       "      <td>0.0</td>\n",
       "      <td>0.0</td>\n",
       "      <td>0.0</td>\n",
       "      <td>0.0</td>\n",
       "    </tr>\n",
       "    <tr>\n",
       "      <th>399</th>\n",
       "      <td>58.0</td>\n",
       "      <td>80.0</td>\n",
       "      <td>1.025</td>\n",
       "      <td>0.0</td>\n",
       "      <td>0.0</td>\n",
       "      <td>0.0</td>\n",
       "      <td>0.0</td>\n",
       "      <td>0.0</td>\n",
       "      <td>0.0</td>\n",
       "      <td>131.0</td>\n",
       "      <td>...</td>\n",
       "      <td>15.8</td>\n",
       "      <td>53.0</td>\n",
       "      <td>6800.0</td>\n",
       "      <td>6.10</td>\n",
       "      <td>0.0</td>\n",
       "      <td>0.0</td>\n",
       "      <td>0.0</td>\n",
       "      <td>0.0</td>\n",
       "      <td>0.0</td>\n",
       "      <td>0.0</td>\n",
       "    </tr>\n",
       "  </tbody>\n",
       "</table>\n",
       "<p>400 rows × 24 columns</p>\n",
       "</div>"
      ],
      "text/plain": [
       "      age    bp     sg   al   su  rbc   pc  pcc   ba    bgr  ...  hemo   pcv  \\\n",
       "0    48.0  80.0  1.020  1.0  0.0  0.2  0.0  0.0  0.0  121.0  ...  15.4  44.0   \n",
       "1     7.0  50.0  1.020  4.0  0.0  0.2  0.0  0.0  0.0  179.8  ...  11.3  38.0   \n",
       "2    62.0  80.0  1.010  2.0  3.0  0.0  0.0  0.0  0.0  423.0  ...   9.6  31.0   \n",
       "3    48.0  70.0  1.005  4.0  0.0  0.0  1.0  1.0  0.0  117.0  ...  11.2  32.0   \n",
       "4    51.0  80.0  1.010  2.0  0.0  0.0  0.0  0.0  0.0  106.0  ...  11.6  35.0   \n",
       "..    ...   ...    ...  ...  ...  ...  ...  ...  ...    ...  ...   ...   ...   \n",
       "395  55.0  80.0  1.020  0.0  0.0  0.0  0.0  0.0  0.0  140.0  ...  15.7  47.0   \n",
       "396  42.0  70.0  1.025  0.0  0.0  0.0  0.0  0.0  0.0   75.0  ...  16.5  54.0   \n",
       "397  12.0  80.0  1.020  0.0  0.0  0.0  0.0  0.0  0.0  100.0  ...  15.8  49.0   \n",
       "398  17.0  60.0  1.025  0.0  0.0  0.0  0.0  0.0  0.0  114.0  ...  14.2  51.0   \n",
       "399  58.0  80.0  1.025  0.0  0.0  0.0  0.0  0.0  0.0  131.0  ...  15.8  53.0   \n",
       "\n",
       "       wbcc  rbcc  htn   dm  cad  appet   pe  ane  \n",
       "0    7800.0  5.20  1.0  1.0  0.0    0.0  0.0  0.0  \n",
       "1    6000.0  5.08  0.0  0.0  0.0    0.0  0.0  0.0  \n",
       "2    7500.0  3.80  0.0  1.0  0.0    1.0  0.0  1.0  \n",
       "3    6700.0  3.90  1.0  0.0  0.0    1.0  1.0  1.0  \n",
       "4    7300.0  4.60  0.0  0.0  0.0    0.0  0.0  0.0  \n",
       "..      ...   ...  ...  ...  ...    ...  ...  ...  \n",
       "395  6700.0  4.90  0.0  0.0  0.0    0.0  0.0  0.0  \n",
       "396  7800.0  6.20  0.0  0.0  0.0    0.0  0.0  0.0  \n",
       "397  6600.0  5.40  0.0  0.0  0.0    0.0  0.0  0.0  \n",
       "398  7200.0  5.90  0.0  0.0  0.0    0.0  0.0  0.0  \n",
       "399  6800.0  6.10  0.0  0.0  0.0    0.0  0.0  0.0  \n",
       "\n",
       "[400 rows x 24 columns]"
      ]
     },
     "execution_count": 10,
     "metadata": {},
     "output_type": "execute_result"
    }
   ],
   "source": [
    "X"
   ]
  },
  {
   "cell_type": "markdown",
   "id": "10efd8ee",
   "metadata": {},
   "source": [
    "For the question 5,Our dataset contains features with multiple missing values, which must be properly handled before continuing with model training. To do this, we first counted the percentage of missing values in each feature to get a complete picture of missing data. Statistical results show that the proportion of missing values ranges from 0.25% to 38%, revealing differences in the degree of missing data for different features.\n",
    "Based on the percentage of missing values, we classify features into three categories: low missingness (less than 5%), moderate missingness (5-20%), and high missingness (more than 20%). Among them, the \"low missingness\" category covers features such as \"age\", \"bp\", and \"pcc\", while the \"moderate missingness\" category includes features such as \"sg\", \"al\", and \"su\". As for the \"high missingness\" category, it involves features such as \"rbc\", \"pc\", and \"sod\".\n",
    "For \"low missingness\" features, we used a simple imputation method, which uses the median of the corresponding feature to fill in missing values. This method is robust and can effectively resist the influence of outliers because the median is not disturbed by extreme values.\n",
    "However, when dealing with \"moderately missing\" and \"highly missing\" features, direct use of median or mean for imputation may introduce larger biases due to the higher proportion of missing data. Therefore, we chose the K-nearest neighbor (KNN) interpolation method, which imputes and replaces missing values based on the values of the nearest neighbors. This method is more complex and can capture deep relationships in the data, making it ideal for situations with high levels of missingness.\n",
    "In summary, our missing value handling strategy involves assessing missingness in the dataset and employing appropriate imputation methods based on the proportion of missing data. Through this strategy, we were able to retain valuable information across all features while minimizing possible bias from missing data.\n"
   ]
  },
  {
   "cell_type": "markdown",
   "id": "8be0fbd4378a21f8",
   "metadata": {
    "collapsed": false,
    "jupyter": {
     "outputs_hidden": false
    }
   },
   "source": [
    "## 6.Outlier Analysis: Implement your approach for identifying and managing outliers, or provide reasons for not addressing them."
   ]
  },
  {
   "cell_type": "code",
   "execution_count": 11,
   "id": "f0af451e43a1a5e9",
   "metadata": {
    "ExecuteTime": {
     "end_time": "2024-04-18T16:28:22.025060Z",
     "start_time": "2024-04-18T16:28:22.010791Z"
    },
    "collapsed": false,
    "jupyter": {
     "outputs_hidden": false
    }
   },
   "outputs": [],
   "source": [
    "Q1 = X.quantile(0.25)\n",
    "Q3 = X.quantile(0.75)\n",
    "IQR = Q3 - Q1\n",
    "\n",
    "outlier_mask = (X < (Q1 - 1.5 * IQR)) | (X > (Q3 + 1.5 * IQR))\n",
    "\n",
    "for col in X.columns:\n",
    "    median = X[col].median()\n",
    "    X.loc[outlier_mask[col], col] = median"
   ]
  },
  {
   "cell_type": "code",
   "execution_count": 12,
   "id": "c127d41bfcdf6b48",
   "metadata": {
    "ExecuteTime": {
     "end_time": "2024-04-18T16:28:22.054044Z",
     "start_time": "2024-04-18T16:28:22.027257Z"
    },
    "collapsed": false,
    "jupyter": {
     "outputs_hidden": false
    }
   },
   "outputs": [
    {
     "data": {
      "text/html": [
       "<div>\n",
       "<style scoped>\n",
       "    .dataframe tbody tr th:only-of-type {\n",
       "        vertical-align: middle;\n",
       "    }\n",
       "\n",
       "    .dataframe tbody tr th {\n",
       "        vertical-align: top;\n",
       "    }\n",
       "\n",
       "    .dataframe thead th {\n",
       "        text-align: right;\n",
       "    }\n",
       "</style>\n",
       "<table border=\"1\" class=\"dataframe\">\n",
       "  <thead>\n",
       "    <tr style=\"text-align: right;\">\n",
       "      <th></th>\n",
       "      <th>age</th>\n",
       "      <th>bp</th>\n",
       "      <th>sg</th>\n",
       "      <th>al</th>\n",
       "      <th>su</th>\n",
       "      <th>rbc</th>\n",
       "      <th>pc</th>\n",
       "      <th>pcc</th>\n",
       "      <th>ba</th>\n",
       "      <th>bgr</th>\n",
       "      <th>...</th>\n",
       "      <th>hemo</th>\n",
       "      <th>pcv</th>\n",
       "      <th>wbcc</th>\n",
       "      <th>rbcc</th>\n",
       "      <th>htn</th>\n",
       "      <th>dm</th>\n",
       "      <th>cad</th>\n",
       "      <th>appet</th>\n",
       "      <th>pe</th>\n",
       "      <th>ane</th>\n",
       "    </tr>\n",
       "  </thead>\n",
       "  <tbody>\n",
       "    <tr>\n",
       "      <th>0</th>\n",
       "      <td>48.0</td>\n",
       "      <td>80.0</td>\n",
       "      <td>1.020</td>\n",
       "      <td>1.0</td>\n",
       "      <td>0.0</td>\n",
       "      <td>0.2</td>\n",
       "      <td>0.0</td>\n",
       "      <td>0.0</td>\n",
       "      <td>0.0</td>\n",
       "      <td>121.0</td>\n",
       "      <td>...</td>\n",
       "      <td>15.4</td>\n",
       "      <td>44.0</td>\n",
       "      <td>7800.0</td>\n",
       "      <td>5.20</td>\n",
       "      <td>1.0</td>\n",
       "      <td>1.0</td>\n",
       "      <td>0.0</td>\n",
       "      <td>0.0</td>\n",
       "      <td>0.0</td>\n",
       "      <td>0.0</td>\n",
       "    </tr>\n",
       "    <tr>\n",
       "      <th>1</th>\n",
       "      <td>55.0</td>\n",
       "      <td>80.0</td>\n",
       "      <td>1.020</td>\n",
       "      <td>4.0</td>\n",
       "      <td>0.0</td>\n",
       "      <td>0.2</td>\n",
       "      <td>0.0</td>\n",
       "      <td>0.0</td>\n",
       "      <td>0.0</td>\n",
       "      <td>179.8</td>\n",
       "      <td>...</td>\n",
       "      <td>11.3</td>\n",
       "      <td>38.0</td>\n",
       "      <td>6000.0</td>\n",
       "      <td>5.08</td>\n",
       "      <td>0.0</td>\n",
       "      <td>0.0</td>\n",
       "      <td>0.0</td>\n",
       "      <td>0.0</td>\n",
       "      <td>0.0</td>\n",
       "      <td>0.0</td>\n",
       "    </tr>\n",
       "    <tr>\n",
       "      <th>2</th>\n",
       "      <td>62.0</td>\n",
       "      <td>80.0</td>\n",
       "      <td>1.010</td>\n",
       "      <td>2.0</td>\n",
       "      <td>0.0</td>\n",
       "      <td>0.0</td>\n",
       "      <td>0.0</td>\n",
       "      <td>0.0</td>\n",
       "      <td>0.0</td>\n",
       "      <td>124.0</td>\n",
       "      <td>...</td>\n",
       "      <td>9.6</td>\n",
       "      <td>31.0</td>\n",
       "      <td>7500.0</td>\n",
       "      <td>3.80</td>\n",
       "      <td>0.0</td>\n",
       "      <td>1.0</td>\n",
       "      <td>0.0</td>\n",
       "      <td>0.0</td>\n",
       "      <td>0.0</td>\n",
       "      <td>0.0</td>\n",
       "    </tr>\n",
       "    <tr>\n",
       "      <th>3</th>\n",
       "      <td>48.0</td>\n",
       "      <td>70.0</td>\n",
       "      <td>1.005</td>\n",
       "      <td>4.0</td>\n",
       "      <td>0.0</td>\n",
       "      <td>0.0</td>\n",
       "      <td>1.0</td>\n",
       "      <td>0.0</td>\n",
       "      <td>0.0</td>\n",
       "      <td>117.0</td>\n",
       "      <td>...</td>\n",
       "      <td>11.2</td>\n",
       "      <td>32.0</td>\n",
       "      <td>6700.0</td>\n",
       "      <td>3.90</td>\n",
       "      <td>1.0</td>\n",
       "      <td>0.0</td>\n",
       "      <td>0.0</td>\n",
       "      <td>0.0</td>\n",
       "      <td>0.0</td>\n",
       "      <td>0.0</td>\n",
       "    </tr>\n",
       "    <tr>\n",
       "      <th>4</th>\n",
       "      <td>51.0</td>\n",
       "      <td>80.0</td>\n",
       "      <td>1.010</td>\n",
       "      <td>2.0</td>\n",
       "      <td>0.0</td>\n",
       "      <td>0.0</td>\n",
       "      <td>0.0</td>\n",
       "      <td>0.0</td>\n",
       "      <td>0.0</td>\n",
       "      <td>106.0</td>\n",
       "      <td>...</td>\n",
       "      <td>11.6</td>\n",
       "      <td>35.0</td>\n",
       "      <td>7300.0</td>\n",
       "      <td>4.60</td>\n",
       "      <td>0.0</td>\n",
       "      <td>0.0</td>\n",
       "      <td>0.0</td>\n",
       "      <td>0.0</td>\n",
       "      <td>0.0</td>\n",
       "      <td>0.0</td>\n",
       "    </tr>\n",
       "    <tr>\n",
       "      <th>...</th>\n",
       "      <td>...</td>\n",
       "      <td>...</td>\n",
       "      <td>...</td>\n",
       "      <td>...</td>\n",
       "      <td>...</td>\n",
       "      <td>...</td>\n",
       "      <td>...</td>\n",
       "      <td>...</td>\n",
       "      <td>...</td>\n",
       "      <td>...</td>\n",
       "      <td>...</td>\n",
       "      <td>...</td>\n",
       "      <td>...</td>\n",
       "      <td>...</td>\n",
       "      <td>...</td>\n",
       "      <td>...</td>\n",
       "      <td>...</td>\n",
       "      <td>...</td>\n",
       "      <td>...</td>\n",
       "      <td>...</td>\n",
       "      <td>...</td>\n",
       "    </tr>\n",
       "    <tr>\n",
       "      <th>395</th>\n",
       "      <td>55.0</td>\n",
       "      <td>80.0</td>\n",
       "      <td>1.020</td>\n",
       "      <td>0.0</td>\n",
       "      <td>0.0</td>\n",
       "      <td>0.0</td>\n",
       "      <td>0.0</td>\n",
       "      <td>0.0</td>\n",
       "      <td>0.0</td>\n",
       "      <td>140.0</td>\n",
       "      <td>...</td>\n",
       "      <td>15.7</td>\n",
       "      <td>47.0</td>\n",
       "      <td>6700.0</td>\n",
       "      <td>4.90</td>\n",
       "      <td>0.0</td>\n",
       "      <td>0.0</td>\n",
       "      <td>0.0</td>\n",
       "      <td>0.0</td>\n",
       "      <td>0.0</td>\n",
       "      <td>0.0</td>\n",
       "    </tr>\n",
       "    <tr>\n",
       "      <th>396</th>\n",
       "      <td>42.0</td>\n",
       "      <td>70.0</td>\n",
       "      <td>1.025</td>\n",
       "      <td>0.0</td>\n",
       "      <td>0.0</td>\n",
       "      <td>0.0</td>\n",
       "      <td>0.0</td>\n",
       "      <td>0.0</td>\n",
       "      <td>0.0</td>\n",
       "      <td>75.0</td>\n",
       "      <td>...</td>\n",
       "      <td>16.5</td>\n",
       "      <td>54.0</td>\n",
       "      <td>7800.0</td>\n",
       "      <td>6.20</td>\n",
       "      <td>0.0</td>\n",
       "      <td>0.0</td>\n",
       "      <td>0.0</td>\n",
       "      <td>0.0</td>\n",
       "      <td>0.0</td>\n",
       "      <td>0.0</td>\n",
       "    </tr>\n",
       "    <tr>\n",
       "      <th>397</th>\n",
       "      <td>12.0</td>\n",
       "      <td>80.0</td>\n",
       "      <td>1.020</td>\n",
       "      <td>0.0</td>\n",
       "      <td>0.0</td>\n",
       "      <td>0.0</td>\n",
       "      <td>0.0</td>\n",
       "      <td>0.0</td>\n",
       "      <td>0.0</td>\n",
       "      <td>100.0</td>\n",
       "      <td>...</td>\n",
       "      <td>15.8</td>\n",
       "      <td>49.0</td>\n",
       "      <td>6600.0</td>\n",
       "      <td>5.40</td>\n",
       "      <td>0.0</td>\n",
       "      <td>0.0</td>\n",
       "      <td>0.0</td>\n",
       "      <td>0.0</td>\n",
       "      <td>0.0</td>\n",
       "      <td>0.0</td>\n",
       "    </tr>\n",
       "    <tr>\n",
       "      <th>398</th>\n",
       "      <td>17.0</td>\n",
       "      <td>60.0</td>\n",
       "      <td>1.025</td>\n",
       "      <td>0.0</td>\n",
       "      <td>0.0</td>\n",
       "      <td>0.0</td>\n",
       "      <td>0.0</td>\n",
       "      <td>0.0</td>\n",
       "      <td>0.0</td>\n",
       "      <td>114.0</td>\n",
       "      <td>...</td>\n",
       "      <td>14.2</td>\n",
       "      <td>51.0</td>\n",
       "      <td>7200.0</td>\n",
       "      <td>5.90</td>\n",
       "      <td>0.0</td>\n",
       "      <td>0.0</td>\n",
       "      <td>0.0</td>\n",
       "      <td>0.0</td>\n",
       "      <td>0.0</td>\n",
       "      <td>0.0</td>\n",
       "    </tr>\n",
       "    <tr>\n",
       "      <th>399</th>\n",
       "      <td>58.0</td>\n",
       "      <td>80.0</td>\n",
       "      <td>1.025</td>\n",
       "      <td>0.0</td>\n",
       "      <td>0.0</td>\n",
       "      <td>0.0</td>\n",
       "      <td>0.0</td>\n",
       "      <td>0.0</td>\n",
       "      <td>0.0</td>\n",
       "      <td>131.0</td>\n",
       "      <td>...</td>\n",
       "      <td>15.8</td>\n",
       "      <td>53.0</td>\n",
       "      <td>6800.0</td>\n",
       "      <td>6.10</td>\n",
       "      <td>0.0</td>\n",
       "      <td>0.0</td>\n",
       "      <td>0.0</td>\n",
       "      <td>0.0</td>\n",
       "      <td>0.0</td>\n",
       "      <td>0.0</td>\n",
       "    </tr>\n",
       "  </tbody>\n",
       "</table>\n",
       "<p>400 rows × 24 columns</p>\n",
       "</div>"
      ],
      "text/plain": [
       "      age    bp     sg   al   su  rbc   pc  pcc   ba    bgr  ...  hemo   pcv  \\\n",
       "0    48.0  80.0  1.020  1.0  0.0  0.2  0.0  0.0  0.0  121.0  ...  15.4  44.0   \n",
       "1    55.0  80.0  1.020  4.0  0.0  0.2  0.0  0.0  0.0  179.8  ...  11.3  38.0   \n",
       "2    62.0  80.0  1.010  2.0  0.0  0.0  0.0  0.0  0.0  124.0  ...   9.6  31.0   \n",
       "3    48.0  70.0  1.005  4.0  0.0  0.0  1.0  0.0  0.0  117.0  ...  11.2  32.0   \n",
       "4    51.0  80.0  1.010  2.0  0.0  0.0  0.0  0.0  0.0  106.0  ...  11.6  35.0   \n",
       "..    ...   ...    ...  ...  ...  ...  ...  ...  ...    ...  ...   ...   ...   \n",
       "395  55.0  80.0  1.020  0.0  0.0  0.0  0.0  0.0  0.0  140.0  ...  15.7  47.0   \n",
       "396  42.0  70.0  1.025  0.0  0.0  0.0  0.0  0.0  0.0   75.0  ...  16.5  54.0   \n",
       "397  12.0  80.0  1.020  0.0  0.0  0.0  0.0  0.0  0.0  100.0  ...  15.8  49.0   \n",
       "398  17.0  60.0  1.025  0.0  0.0  0.0  0.0  0.0  0.0  114.0  ...  14.2  51.0   \n",
       "399  58.0  80.0  1.025  0.0  0.0  0.0  0.0  0.0  0.0  131.0  ...  15.8  53.0   \n",
       "\n",
       "       wbcc  rbcc  htn   dm  cad  appet   pe  ane  \n",
       "0    7800.0  5.20  1.0  1.0  0.0    0.0  0.0  0.0  \n",
       "1    6000.0  5.08  0.0  0.0  0.0    0.0  0.0  0.0  \n",
       "2    7500.0  3.80  0.0  1.0  0.0    0.0  0.0  0.0  \n",
       "3    6700.0  3.90  1.0  0.0  0.0    0.0  0.0  0.0  \n",
       "4    7300.0  4.60  0.0  0.0  0.0    0.0  0.0  0.0  \n",
       "..      ...   ...  ...  ...  ...    ...  ...  ...  \n",
       "395  6700.0  4.90  0.0  0.0  0.0    0.0  0.0  0.0  \n",
       "396  7800.0  6.20  0.0  0.0  0.0    0.0  0.0  0.0  \n",
       "397  6600.0  5.40  0.0  0.0  0.0    0.0  0.0  0.0  \n",
       "398  7200.0  5.90  0.0  0.0  0.0    0.0  0.0  0.0  \n",
       "399  6800.0  6.10  0.0  0.0  0.0    0.0  0.0  0.0  \n",
       "\n",
       "[400 rows x 24 columns]"
      ]
     },
     "execution_count": 12,
     "metadata": {},
     "output_type": "execute_result"
    }
   ],
   "source": [
    "X"
   ]
  },
  {
   "cell_type": "markdown",
   "id": "b5d9fb5c",
   "metadata": {},
   "source": [
    "For the question 6,Similar to many real-world data sets, our data set may also contain outliers, values ​​that differ significantly from other observations. These outliers have the potential to distort statistics and affect how well the model learns from the data. Therefore, identifying and handling these outliers has become a crucial step in our data preprocessing process.\n",
    "In order to effectively detect outliers, we adopt the interquartile range (IQR) method. The IQR is obtained by calculating the difference between the first quartile (i.e. the 25th percentile) and the third quartile (i.e. the 75th percentile) of the data. According to the definition of IQR, any data point that is less than the first quartile minus 1.5 times the IQR or greater than the third quartile plus 1.5 times the IQR is determined to be an outlier by us.\n",
    "After identifying these outliers, we chose to replace them using the median of the corresponding feature. We choose the median rather than the mean as a replacement value mainly because the median is a more robust statistic that is less susceptible to extreme values. In this way, we successfully reduce the impact of outliers on the dataset while also preserving the value of the data.\n"
   ]
  },
  {
   "cell_type": "markdown",
   "id": "4d6f1fdacdcc5e02",
   "metadata": {
    "collapsed": false,
    "jupyter": {
     "outputs_hidden": false
    }
   },
   "source": [
    "## 7.Sub-group Analysis: Explore potential sub-groups within the data, employing appropriate data science methods to find the sub-groups of patients and visualize the sub-groups. The sub-group analysis must not include the labels (for CKD patients and healthy controls)."
   ]
  },
  {
   "cell_type": "code",
   "execution_count": 13,
   "id": "3c38e8c8e263ccd6",
   "metadata": {
    "ExecuteTime": {
     "end_time": "2024-04-18T16:28:22.599710Z",
     "start_time": "2024-04-18T16:28:22.056968Z"
    },
    "collapsed": false,
    "jupyter": {
     "outputs_hidden": false
    }
   },
   "outputs": [
    {
     "data": {
      "image/png": "[encoded data removed]",
      "text/plain": [
       "<Figure size 640x480 with 1 Axes>"
      ]
     },
     "metadata": {},
     "output_type": "display_data"
    }
   ],
   "source": [
    "kmeans = KMeans(n_clusters=3, random_state=1).fit(X)\n",
    "\n",
    "labels = kmeans.labels_\n",
    "\n",
    "pca = PCA(n_components=2)\n",
    "X_pca = pca.fit_transform(X)\n",
    "\n",
    "X_pca = pd.DataFrame(X_pca, columns=['PC1', 'PC2'])\n",
    "X_pca['cluster'] = labels\n",
    "\n",
    "plt.scatter(X_pca['PC1'], X_pca['PC2'], c=X_pca['cluster'])\n",
    "plt.show()"
   ]
  },
  {
   "cell_type": "markdown",
   "id": "5d2da4f7",
   "metadata": {},
   "source": [
    "For the question 7,To identify potential subgroups in the data, we used K-means clustering, an unsupervised machine learning algorithm. In this study, we set three cluster centers (n_clusters=3), which can be flexibly adjusted according to the specific characteristics of the data set and domain knowledge.\n",
    "However, visualizing high-dimensional data often faces challenges. To solve this problem, we introduced the dimensionality reduction technique of principal component analysis (PCA). PCA can transform high-dimensional data into two-dimensional space while retaining the variance information of the data to the greatest extent. This transformation allows us to clearly visualize the clusters on a 2D scatterplot.\n",
    "In the scatterplot, different patient clusters are distinguished by different colors.\n"
   ]
  },
  {
   "cell_type": "markdown",
   "id": "7df42816f66bd7f0",
   "metadata": {
    "collapsed": false,
    "jupyter": {
     "outputs_hidden": false
    }
   },
   "source": [
    "## 8. Data Splitting: Segregate 30% of the data for testing, using a random seed of 1. Use the remaining 70% for training and model selection."
   ]
  },
  {
   "cell_type": "code",
   "execution_count": 14,
   "id": "2b9ebfa78ebc7221",
   "metadata": {
    "ExecuteTime": {
     "end_time": "2024-04-18T16:28:22.609013Z",
     "start_time": "2024-04-18T16:28:22.602623Z"
    },
    "collapsed": false,
    "jupyter": {
     "outputs_hidden": false
    }
   },
   "outputs": [],
   "source": [
    "X_train, X_test, y_train, y_test = train_test_split(X, y, test_size=0.3, random_state=1)"
   ]
  },
  {
   "cell_type": "markdown",
   "id": "483b24d9",
   "metadata": {},
   "source": [
    "For the question 8,We used the \"train_test_split\" function in the sklearn library to split the data set into two parts after random shuffling. Among them, 70% of the data is designated as the training set (by setting test_size=0.3, it means that 30% of the data is used as the test set, and the remaining part is automatically allocated as the training set). The training set is used for model fitting, while the test set serves as unknown data to evaluate the performance and generalization ability of the model.\n",
    "To ensure the repeatability of the experiment, we set the \"random_state\" parameter to 1 so that the data splitting method remains consistent each time the code is run.\n"
   ]
  },
  {
   "cell_type": "markdown",
   "id": "f65b7399",
   "metadata": {},
   "source": [
    "## 9.Classifier Choices: Identify the two classifiers you have chosen and justify your selections."
   ]
  },
  {
   "cell_type": "markdown",
   "id": "a68a94b0",
   "metadata": {},
   "source": [
    "For the question 9,In our study, we selected support vector machine (SVM) and random forest as the main classifiers based on their respective advantages and applicability.\n",
    "First, Support Vector Machine (SVM) was selected for its excellent performance in linear and nonlinear classification tasks. SVM is particularly suitable for processing high-dimensional data common in medical data sets. It works by finding a hyperplane that maximizes the separation of different categories, thereby achieving robust classification performance. In addition, as long as the appropriate kernel and regularization parameters are selected, SVM can effectively avoid the problem of overfitting.\n",
    "Secondly, we chose the ensemble learning method of random forest. It works by building multiple decision trees and outputting the most common categories as prediction results. Random forest is highly robust to outliers and can effectively handle the common data imbalance problem in medical data sets. Furthermore, it provides an effective indicator of feature importance, bringing valuable insights to our research. Random forests are relatively fast to train and require no data scaling, simplifying the preprocessing process.\n"
   ]
  },
  {
   "cell_type": "markdown",
   "id": "83e12759282a16ee",
   "metadata": {
    "collapsed": false,
    "jupyter": {
     "outputs_hidden": false
    }
   },
   "source": [
    "## 10. Performance Metrics: Outline the two metrics for comparing the performance of the classifiers."
   ]
  },
  {
   "cell_type": "code",
   "execution_count": 15,
   "id": "5b53b0bc564ebcad",
   "metadata": {
    "ExecuteTime": {
     "end_time": "2024-04-18T16:28:22.696687Z",
     "start_time": "2024-04-18T16:28:22.610840Z"
    },
    "collapsed": false,
    "jupyter": {
     "outputs_hidden": false
    }
   },
   "outputs": [
    {
     "name": "stdout",
     "output_type": "stream",
     "text": [
      "SVM accuracy: 0.58\n",
      "SVM F1 score: 0.74\n",
      "Random Forest accuracy: 0.99\n",
      "Random Forest F1 score: 0.99\n"
     ]
    }
   ],
   "source": [
    "svm = SVC(kernel='rbf', random_state=42, gamma=0.10, C=1.0)\n",
    "svm.fit(X_train, y_train)\n",
    "\n",
    "y_pred = svm.predict(X_test)\n",
    "\n",
    "print('SVM accuracy: %.2f' % accuracy_score(y_test, y_pred))\n",
    "print('SVM F1 score: %.2f' % f1_score(y_test, y_pred))\n",
    "\n",
    "forest = RandomForestClassifier(n_estimators=100, random_state=1)\n",
    "forest.fit(X_train, y_train)\n",
    "\n",
    "y_pred = forest.predict(X_test)\n",
    "\n",
    "print('Random Forest accuracy: %.2f' % accuracy_score(y_test, y_pred))\n",
    "print('Random Forest F1 score: %.2f' % f1_score(y_test, y_pred))"
   ]
  },
  {
   "cell_type": "markdown",
   "id": "18599223",
   "metadata": {},
   "source": [
    "For the question 10, In our study, to comprehensively evaluate the performance of support vector machine (SVM) and random forest classifiers, we adopted accuracy and F1 score as the main evaluation indicators.\n",
    "\n",
    "First, accuracy, as the most intuitive performance measure, reflects the proportion of observations correctly predicted by the classifier to the total observations. The effect is particularly significant in symmetric data sets. In our experiments, the SVM model achieved an accuracy of 0.58, while the random forest model achieved an accuracy as high as 0.99. This significant difference shows that the prediction accuracy of the random forest model on the test set is much higher than that of the SVM model.\n",
    "Secondly, to evaluate the classifier performance more comprehensively, we also use the F1 score, which takes precision and recall into consideration and is especially suitable for cases where the categories are unevenly distributed. The best value of F1 score is 1, indicating perfect precision and recall, while the worst value is 0. Experimental results show that the F1 score of the SVM model is 0.74, and the F1 score of the random forest model is as high as 0.99. This result further confirms the superiority of the random forest model on the test set.\n"
   ]
  },
  {
   "cell_type": "markdown",
   "id": "67cbb9d9d662c252",
   "metadata": {
    "collapsed": false,
    "jupyter": {
     "outputs_hidden": false
    }
   },
   "source": [
    "## 11.Feature Selection/Extraction: Implement methods to enhance the performance of at least one classifier in (9). The answer for this question can be included in (12)."
   ]
  },
  {
   "cell_type": "code",
   "execution_count": 16,
   "id": "a95ddee62674a150",
   "metadata": {
    "ExecuteTime": {
     "end_time": "2024-04-18T16:28:22.700760Z",
     "start_time": "2024-04-18T16:28:22.697470Z"
    },
    "collapsed": false,
    "jupyter": {
     "outputs_hidden": false
    }
   },
   "outputs": [
    {
     "name": "stdout",
     "output_type": "stream",
     "text": [
      "Top correlated features with 'class': ['hemo', 'pcv', 'sg', 'rbcc', 'al', 'htn', 'dm', 'rbc', 'pc']\n"
     ]
    }
   ],
   "source": [
    "abs_corr_matrix = corr.abs()\n",
    "\n",
    "class_corr = abs_corr_matrix['class']\n",
    "\n",
    "top_n = class_corr.nlargest(10)\n",
    "\n",
    "top_features = top_n.index[top_n.index != 'class']\n",
    "\n",
    "print(f\"Top correlated features with 'class': {top_features.tolist()}\")"
   ]
  },
  {
   "cell_type": "markdown",
   "id": "b4098353",
   "metadata": {},
   "source": [
    "For the question 11, In order to improve the performance of the classifier, we adopt a feature selection method based on the correlation between the features and the target category. Feature selection is crucial in machine learning because it can optimize model performance by reducing the risk of overfitting, improving accuracy, and shortening training time.\n",
    "In this study, we calculated the absolute value of the Pearson correlation coefficient between each feature and the target category. The Pearson correlation coefficient is a measure of the strength of the linear relationship between two data sets, and its absolute value can reflect the closeness of the relationship regardless of directionality.\n",
    "After calculation, we selected the top 9 features with the highest correlation coefficients, namely: \"hemo\", \"pcv\", \"sg\", \"rbcc\", \"al\", \"htn\", \"dm\", \"rbc\" and \"pc\". These features have the strongest correlation with the target class and therefore potentially provide the richest information to our classifier.\n",
    "By focusing on these key features, we can expect to significantly improve classifier performance. By eliminating irrelevant or redundant features, we can reduce the complexity of the model, making it easier to capture underlying patterns in the data.\n"
   ]
  },
  {
   "cell_type": "markdown",
   "id": "631a28783f519828",
   "metadata": {
    "collapsed": false,
    "jupyter": {
     "outputs_hidden": false
    }
   },
   "source": [
    "## 12.Classifier Comparison: Utilize the selected metrics to compare the classifiers based on the test set. Discuss your findings (at least two statements)."
   ]
  },
  {
   "cell_type": "code",
   "execution_count": 17,
   "id": "f5cdc6825f85e4a1",
   "metadata": {
    "ExecuteTime": {
     "end_time": "2024-04-18T16:28:22.760568Z",
     "start_time": "2024-04-18T16:28:22.701534Z"
    },
    "collapsed": false,
    "jupyter": {
     "outputs_hidden": false
    }
   },
   "outputs": [
    {
     "name": "stdout",
     "output_type": "stream",
     "text": [
      "SVM with top features accuracy: 0.94\n",
      "SVM with top features F1 score: 0.95\n",
      "Random Forest with top features accuracy: 0.97\n",
      "Random Forest with top features F1 score: 0.97\n"
     ]
    }
   ],
   "source": [
    "X_train_top_features = X_train[top_features].values\n",
    "X_test_top_features = X_test[top_features].values\n",
    "\n",
    "svm = SVC(kernel='rbf', random_state=1, gamma=0.10, C=1.0)\n",
    "svm.fit(X_train_top_features, y_train)\n",
    "\n",
    "y_pred_tf = svm.predict(X_test_top_features)\n",
    "\n",
    "print('SVM with top features accuracy: %.2f' % accuracy_score(y_test, y_pred_tf))\n",
    "print('SVM with top features F1 score: %.2f' % f1_score(y_test, y_pred_tf))\n",
    "\n",
    "forest = RandomForestClassifier(n_estimators=100, random_state=1)\n",
    "forest.fit(X_train_top_features, y_train)\n",
    "\n",
    "y_pred = forest.predict(X_test_top_features)\n",
    "\n",
    "print('Random Forest with top features accuracy: %.2f' % accuracy_score(y_test, y_pred))\n",
    "print('Random Forest with top features F1 score: %.2f' % f1_score(y_test, y_pred))"
   ]
  },
  {
   "cell_type": "markdown",
   "id": "e6b118e7",
   "metadata": {},
   "source": [
    "For the question 12, Following the feature selection process described in the previous section, we retrained the support vector machine (SVM) and random forest classifiers using only the top 9 features most relevant to the target category. This is intended to improve classifier performance by simplifying the model and focusing on the most informative features.\n",
    "The experimental results are impressive, especially for the SVM model. Before feature selection, the accuracy and F1 score of SVM are 0.58 and 0.74 respectively. However, after training on selected features, the performance of the SVM model was significantly improved, with the accuracy and F1 score increasing to 0.94 and 0.95 respectively. This significant improvement fully demonstrates the key role of feature selection in improving the performance of machine learning models. By focusing on the most relevant features, the SVM model can more effectively capture the underlying patterns in the data and make more accurate predictions.\n",
    "However, the random forest model shows slight performance degradation on selected features. Both its accuracy and F1 score dropped from the original 0.99 to 0.97. This may be due to the fact that for random forests, there are still some useful features that are not selected.\n"
   ]
  },
  {
   "cell_type": "markdown",
   "id": "3ea44b621b677d8",
   "metadata": {
    "collapsed": false,
    "jupyter": {
     "outputs_hidden": false
    }
   },
   "source": [
    "## 13.Interpretable Classifier Insight: After re-training the interpretable classifier with all available data, analyze and interpret the significance of predictor variables in the context of the data and the challenge (at least two statements)."
   ]
  },
  {
   "cell_type": "code",
   "execution_count": 18,
   "id": "c9f3ec4fa35efad7",
   "metadata": {
    "ExecuteTime": {
     "end_time": "2024-04-18T16:28:22.816368Z",
     "start_time": "2024-04-18T16:28:22.761483Z"
    },
    "collapsed": false,
    "jupyter": {
     "outputs_hidden": false
    }
   },
   "outputs": [
    {
     "name": "stdout",
     "output_type": "stream",
     "text": [
      "Feature importance:\n",
      "sg: 0.2022239549774426\n",
      "hemo: 0.1382584742628825\n",
      "pcv: 0.12938866485322748\n",
      "sc: 0.12565046337896502\n",
      "rbc: 0.08880880121157245\n",
      "al: 0.0706009799338478\n",
      "dm: 0.04717633314577257\n",
      "htn: 0.04567510029852536\n",
      "rbcc: 0.03436873139433587\n",
      "sod: 0.029253256646674473\n",
      "bgr: 0.02819148961585286\n",
      "pc: 0.014378682648857216\n",
      "age: 0.012727633957003685\n",
      "bu: 0.012059117853320155\n",
      "pot: 0.007904848132687764\n",
      "bp: 0.007602899890524739\n",
      "wbcc: 0.005730567798507575\n",
      "pe: 0.0\n",
      "ba: 0.0\n",
      "pcc: 0.0\n",
      "su: 0.0\n",
      "cad: 0.0\n",
      "appet: 0.0\n",
      "ane: 0.0\n"
     ]
    }
   ],
   "source": [
    "forest = RandomForestClassifier(n_estimators=100, random_state=1)\n",
    "forest.fit(X, y)\n",
    "\n",
    "importances = forest.feature_importances_\n",
    "\n",
    "indices = np.argsort(importances)[::-1]\n",
    "\n",
    "names = [df.columns[i] for i in indices]\n",
    "\n",
    "print(\"Feature importance:\")\n",
    "for i, name in enumerate(names):\n",
    "    print(f\"{name}: {importances[indices[i]]}\")"
   ]
  },
  {
   "cell_type": "markdown",
   "id": "12101d53",
   "metadata": {},
   "source": [
    "For the question 13, In the final stage of the analysis, we retrained the random forest classifier on the entire dataset and further explored the feature importance revealed by the model. In the random forest model, feature importance reflects the contribution of each feature to reducing the model's prediction error, thereby quantifying the amount of information each feature has in predicting the target category.\n",
    "After in-depth analysis, we found that features such as \"sg\" (specific gravity), \"hemo\" (hemoglobin), \"pcv\" (packed cell volume), and \"sc\" (serum creatinine) have significant feature importance in the random forest model . The prominence of these features suggests that they play a key role in improving the predictive power of the model.\n",
    "Among them, the “sg” feature tops the list with an importance score of 0.202, which means that it provides the richest information in the predictions of our random forest model. Specific gravity, a measure of the concentration of substances in urine, may be affected by multiple factors including kidney function, a finding that reveals the importance of kidney function in our study.\n",
    "Similarly, “hemo” (hemoglobin) and “pcv” (packed cell volume) also showed their importance with high scores of 0.138 and 0.129 respectively. These two characteristics are closely related to the blood's oxygen-carrying capacity, and changes in the blood's oxygen-carrying capacity can be affected by a variety of health conditions, including kidney disease. This finding further emphasizes the non-negligible relevance of these blood-related features in our dataset.\n",
    "However, it is worth noting that although feature importance can provide us with a useful perspective on the relationship between features and target categories, it does not show the full picture of these relationships. For example, it cannot reveal the directionality of the relationship (i.e., whether a feature is positively or negatively related to the target category), nor can it reflect the interaction between features."
   ]
  },
  {
   "cell_type": "markdown",
   "id": "b45ebaa9",
   "metadata": {},
   "source": [
    "## 15. Team Contributions:"
   ]
  },
  {
   "cell_type": "markdown",
   "id": "ccc7c614",
   "metadata": {},
   "source": [
    "The specific plans for all of our assignments were discussed together. Qikai Gao is responsible for questions 1-4, Binghe Li is responsible for questions 5-8, and Longzhixin Huang is responsible for questions 9-13."
   ]
  },
  {
   "cell_type": "markdown",
   "id": "695ee094",
   "metadata": {},
   "source": [
    "## 16. Link to the public GitHub repository."
   ]
  },
  {
   "cell_type": "markdown",
   "id": "3ab6b004",
   "metadata": {},
   "source": [
    "https://github.com/math3da3/reimagined-rotary-phone.git"
   ]
  }
 ],
 "metadata": {
  "kernelspec": {
   "display_name": "Python 3 (ipykernel)",
   "language": "python",
   "name": "python3"
  },
  "language_info": {
   "codemirror_mode": {
    "name": "ipython",
    "version": 3
   },
   "file_extension": ".py",
   "mimetype": "text/x-python",
   "name": "python",
   "nbconvert_exporter": "python",
   "pygments_lexer": "ipython3",
   "version": "3.12.1"
  }
 },
 "nbformat": 4,
 "nbformat_minor": 5
}
